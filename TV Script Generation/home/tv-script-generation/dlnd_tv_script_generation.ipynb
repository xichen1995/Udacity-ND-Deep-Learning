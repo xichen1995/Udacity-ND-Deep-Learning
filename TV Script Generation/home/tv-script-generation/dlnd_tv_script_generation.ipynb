{
 "cells": [
  {
   "cell_type": "markdown",
   "metadata": {},
   "source": [
    "# TV Script Generation\n",
    "In this project, you'll generate your own [Simpsons](https://en.wikipedia.org/wiki/The_Simpsons) TV scripts using RNNs.  You'll be using part of the [Simpsons dataset](https://www.kaggle.com/wcukierski/the-simpsons-by-the-data) of scripts from 27 seasons.  The Neural Network you'll build will generate a new TV script for a scene at [Moe's Tavern](https://simpsonswiki.com/wiki/Moe's_Tavern).\n",
    "## Get the Data\n",
    "The data is already provided for you.  You'll be using a subset of the original dataset.  It consists of only the scenes in Moe's Tavern.  This doesn't include other versions of the tavern, like \"Moe's Cavern\", \"Flaming Moe's\", \"Uncle Moe's Family Feed-Bag\", etc.."
   ]
  },
  {
   "cell_type": "code",
   "execution_count": 1,
   "metadata": {},
   "outputs": [],
   "source": [
    "\"\"\"\n",
    "DON'T MODIFY ANYTHING IN THIS CELL\n",
    "\"\"\"\n",
    "import helper\n",
    "\n",
    "data_dir = './data/simpsons/moes_tavern_lines.txt'\n",
    "text = helper.load_data(data_dir)\n",
    "# Ignore notice, since we don't use it for analysing the data\n",
    "text = text[81:]"
   ]
  },
  {
   "cell_type": "markdown",
   "metadata": {},
   "source": [
    "## Explore the Data\n",
    "Play around with `view_sentence_range` to view different parts of the data."
   ]
  },
  {
   "cell_type": "code",
   "execution_count": 2,
   "metadata": {},
   "outputs": [
    {
     "name": "stdout",
     "output_type": "stream",
     "text": [
      "Dataset Stats\n",
      "Roughly the number of unique words: 11492\n",
      "Number of scenes: 262\n",
      "Average number of sentences in each scene: 15.248091603053435\n",
      "Number of lines: 4257\n",
      "Average number of words in each line: 11.50434578341555\n",
      "\n",
      "The sentences 0 to 10:\n",
      "Moe_Szyslak: (INTO PHONE) Moe's Tavern. Where the elite meet to drink.\n",
      "Bart_Simpson: Eh, yeah, hello, is Mike there? Last name, Rotch.\n",
      "Moe_Szyslak: (INTO PHONE) Hold on, I'll check. (TO BARFLIES) Mike Rotch. Mike Rotch. Hey, has anybody seen Mike Rotch, lately?\n",
      "Moe_Szyslak: (INTO PHONE) Listen you little puke. One of these days I'm gonna catch you, and I'm gonna carve my name on your back with an ice pick.\n",
      "Moe_Szyslak: What's the matter Homer? You're not your normal effervescent self.\n",
      "Homer_Simpson: I got my problems, Moe. Give me another one.\n",
      "Moe_Szyslak: Homer, hey, you should not drink to forget your problems.\n",
      "Barney_Gumble: Yeah, you should only drink to enhance your social skills.\n",
      "\n",
      "\n"
     ]
    }
   ],
   "source": [
    "view_sentence_range = (0, 10)\n",
    "\n",
    "\"\"\"\n",
    "DON'T MODIFY ANYTHING IN THIS CELL\n",
    "\"\"\"\n",
    "import numpy as np\n",
    "\n",
    "print('Dataset Stats')\n",
    "print('Roughly the number of unique words: {}'.format(len({word: None for word in text.split()})))\n",
    "scenes = text.split('\\n\\n')\n",
    "print('Number of scenes: {}'.format(len(scenes)))\n",
    "sentence_count_scene = [scene.count('\\n') for scene in scenes]\n",
    "print('Average number of sentences in each scene: {}'.format(np.average(sentence_count_scene)))\n",
    "\n",
    "sentences = [sentence for scene in scenes for sentence in scene.split('\\n')]\n",
    "print('Number of lines: {}'.format(len(sentences)))\n",
    "word_count_sentence = [len(sentence.split()) for sentence in sentences]\n",
    "print('Average number of words in each line: {}'.format(np.average(word_count_sentence)))\n",
    "\n",
    "print()\n",
    "print('The sentences {} to {}:'.format(*view_sentence_range))\n",
    "print('\\n'.join(text.split('\\n')[view_sentence_range[0]:view_sentence_range[1]]))"
   ]
  },
  {
   "cell_type": "markdown",
   "metadata": {},
   "source": [
    "## Implement Preprocessing Functions\n",
    "The first thing to do to any dataset is preprocessing.  Implement the following preprocessing functions below:\n",
    "- Lookup Table\n",
    "- Tokenize Punctuation\n",
    "\n",
    "### Lookup Table\n",
    "To create a word embedding, you first need to transform the words to ids.  In this function, create two dictionaries:\n",
    "- Dictionary to go from the words to an id, we'll call `vocab_to_int`\n",
    "- Dictionary to go from the id to word, we'll call `int_to_vocab`\n",
    "\n",
    "Return these dictionaries in the following tuple `(vocab_to_int, int_to_vocab)`"
   ]
  },
  {
   "cell_type": "code",
   "execution_count": 6,
   "metadata": {},
   "outputs": [
    {
     "name": "stdout",
     "output_type": "stream",
     "text": [
      "Tests Passed\n"
     ]
    }
   ],
   "source": [
    "import numpy as np\n",
    "import problem_unittests as tests\n",
    "from collections import Counter\n",
    "\n",
    "def create_lookup_tables(text):\n",
    "    \"\"\"\n",
    "    Create lookup tables for vocabulary\n",
    "    :param text: The text of tv scripts split into words\n",
    "    :return: A tuple of dicts (vocab_to_int, int_to_vocab)\n",
    "    \"\"\"\n",
    "    # TODO: Implement Function\n",
    "    counts = Counter(text)\n",
    "    vocab = sorted(counts, key = counts.get, reverse = True)\n",
    "    \n",
    "    vocab_to_int = {word: ii for ii, word in enumerate(vocab,1)}\n",
    "    \n",
    "    int_to_vocab = dict((v,k) for k,v in vocab_to_int.items())\n",
    "    \n",
    "    return vocab_to_int, int_to_vocab\n",
    "\n",
    "\n",
    "\"\"\"\n",
    "DON'T MODIFY ANYTHING IN THIS CELL THAT IS BELOW THIS LINE\n",
    "\"\"\"\n",
    "tests.test_create_lookup_tables(create_lookup_tables)"
   ]
  },
  {
   "cell_type": "markdown",
   "metadata": {},
   "source": [
    "### Tokenize Punctuation\n",
    "We'll be splitting the script into a word array using spaces as delimiters.  However, punctuations like periods and exclamation marks make it hard for the neural network to distinguish between the word \"bye\" and \"bye!\".\n",
    "\n",
    "Implement the function `token_lookup` to return a dict that will be used to tokenize symbols like \"!\" into \"||Exclamation_Mark||\".  Create a dictionary for the following symbols where the symbol is the key and value is the token:\n",
    "- Period ( . )\n",
    "- Comma ( , )\n",
    "- Quotation Mark ( \" )\n",
    "- Semicolon ( ; )\n",
    "- Exclamation mark ( ! )\n",
    "- Question mark ( ? )\n",
    "- Left Parentheses ( ( )\n",
    "- Right Parentheses ( ) )\n",
    "- Dash ( -- )\n",
    "- Return ( \\n )\n",
    "\n",
    "This dictionary will be used to token the symbols and add the delimiter (space) around it.  This separates the symbols as it's own word, making it easier for the neural network to predict on the next word. Make sure you don't use a token that could be confused as a word. Instead of using the token \"dash\", try using something like \"||dash||\"."
   ]
  },
  {
   "cell_type": "code",
   "execution_count": 7,
   "metadata": {},
   "outputs": [
    {
     "name": "stdout",
     "output_type": "stream",
     "text": [
      "Tests Passed\n"
     ]
    }
   ],
   "source": [
    "def token_lookup():\n",
    "    \"\"\"\n",
    "    Generate a dict to turn punctuation into a token.\n",
    "    :return: Tokenize dictionary where the key is the punctuation and the value is the token\n",
    "    \"\"\"\n",
    "    # TODO: Implement Function\n",
    "    special_char = {\n",
    "        '.' : '||Period||',\n",
    "        ',' : '||Comma||',\n",
    "        '\"' : '||Quotation_Mark||',\n",
    "        ';' : '||Semicolon||',\n",
    "        '!' : '||Exclamation_Mark||',\n",
    "        '?' : '||Question_Mark||',\n",
    "        '(' : '||Left_Parentheses||',\n",
    "        ')' : '||Right_Parentheses||',\n",
    "        '--': '||Dash||',\n",
    "        '\\n': '||Return||'\n",
    "    }\n",
    "    return special_char\n",
    "\n",
    "\"\"\"\n",
    "DON'T MODIFY ANYTHING IN THIS CELL THAT IS BELOW THIS LINE\n",
    "\"\"\"\n",
    "tests.test_tokenize(token_lookup)"
   ]
  },
  {
   "cell_type": "markdown",
   "metadata": {},
   "source": [
    "## Preprocess all the data and save it\n",
    "Running the code cell below will preprocess all the data and save it to file."
   ]
  },
  {
   "cell_type": "code",
   "execution_count": 8,
   "metadata": {},
   "outputs": [],
   "source": [
    "\"\"\"\n",
    "DON'T MODIFY ANYTHING IN THIS CELL\n",
    "\"\"\"\n",
    "# Preprocess Training, Validation, and Testing Data\n",
    "helper.preprocess_and_save_data(data_dir, token_lookup, create_lookup_tables)"
   ]
  },
  {
   "cell_type": "markdown",
   "metadata": {},
   "source": [
    "# Check Point\n",
    "This is your first checkpoint. If you ever decide to come back to this notebook or have to restart the notebook, you can start from here. The preprocessed data has been saved to disk."
   ]
  },
  {
   "cell_type": "code",
   "execution_count": 9,
   "metadata": {},
   "outputs": [],
   "source": [
    "\"\"\"\n",
    "DON'T MODIFY ANYTHING IN THIS CELL\n",
    "\"\"\"\n",
    "import helper\n",
    "import numpy as np\n",
    "import problem_unittests as tests\n",
    "\n",
    "int_text, vocab_to_int, int_to_vocab, token_dict = helper.load_preprocess()"
   ]
  },
  {
   "cell_type": "markdown",
   "metadata": {},
   "source": [
    "## Build the Neural Network\n",
    "You'll build the components necessary to build a RNN by implementing the following functions below:\n",
    "- get_inputs\n",
    "- get_init_cell\n",
    "- get_embed\n",
    "- build_rnn\n",
    "- build_nn\n",
    "- get_batches\n",
    "\n",
    "### Check the Version of TensorFlow and Access to GPU"
   ]
  },
  {
   "cell_type": "code",
   "execution_count": 10,
   "metadata": {},
   "outputs": [
    {
     "name": "stdout",
     "output_type": "stream",
     "text": [
      "TensorFlow Version: 1.3.0\n",
      "Default GPU Device: /gpu:0\n"
     ]
    }
   ],
   "source": [
    "\"\"\"\n",
    "DON'T MODIFY ANYTHING IN THIS CELL\n",
    "\"\"\"\n",
    "from distutils.version import LooseVersion\n",
    "import warnings\n",
    "import tensorflow as tf\n",
    "\n",
    "# Check TensorFlow Version\n",
    "assert LooseVersion(tf.__version__) >= LooseVersion('1.3'), 'Please use TensorFlow version 1.3 or newer'\n",
    "print('TensorFlow Version: {}'.format(tf.__version__))\n",
    "\n",
    "# Check for a GPU\n",
    "if not tf.test.gpu_device_name():\n",
    "    warnings.warn('No GPU found. Please use a GPU to train your neural network.')\n",
    "else:\n",
    "    print('Default GPU Device: {}'.format(tf.test.gpu_device_name()))"
   ]
  },
  {
   "cell_type": "markdown",
   "metadata": {},
   "source": [
    "### Input\n",
    "Implement the `get_inputs()` function to create TF Placeholders for the Neural Network.  It should create the following placeholders:\n",
    "- Input text placeholder named \"input\" using the [TF Placeholder](https://www.tensorflow.org/api_docs/python/tf/placeholder) `name` parameter.\n",
    "- Targets placeholder\n",
    "- Learning Rate placeholder\n",
    "\n",
    "Return the placeholders in the following tuple `(Input, Targets, LearningRate)`"
   ]
  },
  {
   "cell_type": "code",
   "execution_count": 12,
   "metadata": {},
   "outputs": [
    {
     "name": "stdout",
     "output_type": "stream",
     "text": [
      "Tests Passed\n"
     ]
    }
   ],
   "source": [
    "def get_inputs():\n",
    "    \"\"\"\n",
    "    Create TF Placeholders for input, targets, and learning rate.\n",
    "    :return: Tuple (input, targets, learning rate)\n",
    "    \"\"\"\n",
    "    # TODO: Implement Function\n",
    "    inputs = tf.placeholder(tf.int32,[None,None],name='input')\n",
    "    targets = tf.placeholder(tf.int32,[None,None],name='targets')\n",
    "    learning_rate = tf.placeholder(tf.float32,name='learning_rate')\n",
    "    return inputs, targets, learning_rate\n",
    "\n",
    "\n",
    "\"\"\"\n",
    "DON'T MODIFY ANYTHING IN THIS CELL THAT IS BELOW THIS LINE\n",
    "\"\"\"\n",
    "tests.test_get_inputs(get_inputs)"
   ]
  },
  {
   "cell_type": "markdown",
   "metadata": {},
   "source": [
    "### Build RNN Cell and Initialize\n",
    "Stack one or more [`BasicLSTMCells`](https://www.tensorflow.org/api_docs/python/tf/contrib/rnn/BasicLSTMCell) in a [`MultiRNNCell`](https://www.tensorflow.org/api_docs/python/tf/contrib/rnn/MultiRNNCell).\n",
    "- The Rnn size should be set using `rnn_size`\n",
    "- Initalize Cell State using the MultiRNNCell's [`zero_state()`](https://www.tensorflow.org/api_docs/python/tf/contrib/rnn/MultiRNNCell#zero_state) function\n",
    "    - Apply the name \"initial_state\" to the initial state using [`tf.identity()`](https://www.tensorflow.org/api_docs/python/tf/identity)\n",
    "\n",
    "Return the cell and initial state in the following tuple `(Cell, InitialState)`"
   ]
  },
  {
   "cell_type": "code",
   "execution_count": 16,
   "metadata": {},
   "outputs": [
    {
     "name": "stdout",
     "output_type": "stream",
     "text": [
      "Tests Passed\n"
     ]
    }
   ],
   "source": [
    "def get_init_cell(batch_size, rnn_size):\n",
    "    \"\"\"\n",
    "    Create an RNN Cell and initialize it.\n",
    "    :param batch_size: Size of batches\n",
    "    :param rnn_size: Size of RNNs\n",
    "    :return: Tuple (cell, initialize state)\n",
    "    \"\"\"\n",
    "    # TODO: Implement Function\n",
    "    lstm = tf.contrib.rnn.BasicLSTMCell(rnn_size)\n",
    "    \n",
    "    drop = tf.contrib.rnn.DropoutWrapper(lstm)\n",
    "    \n",
    "    cell = tf.contrib.rnn.MultiRNNCell([drop]*3)\n",
    "    \n",
    "    init = cell.zero_state(batch_size,tf.float32)\n",
    "    \n",
    "    initial_state = tf.identity(init,name='initial_state')\n",
    "    \n",
    "    return (cell,initial_state)\n",
    "\n",
    "\n",
    "\"\"\"\n",
    "DON'T MODIFY ANYTHING IN THIS CELL THAT IS BELOW THIS LINE\n",
    "\"\"\"\n",
    "tests.test_get_init_cell(get_init_cell)"
   ]
  },
  {
   "cell_type": "markdown",
   "metadata": {},
   "source": [
    "### Word Embedding\n",
    "Apply embedding to `input_data` using TensorFlow.  Return the embedded sequence."
   ]
  },
  {
   "cell_type": "code",
   "execution_count": 20,
   "metadata": {},
   "outputs": [
    {
     "name": "stdout",
     "output_type": "stream",
     "text": [
      "Tests Passed\n"
     ]
    }
   ],
   "source": [
    "def get_embed(input_data, vocab_size, embed_dim):\n",
    "    \"\"\"\n",
    "    Create embedding for <input_data>.\n",
    "    :param input_data: TF placeholder for text input.\n",
    "    :param vocab_size: Number of words in vocabulary.\n",
    "    :param embed_dim: Number of embedding dimensions\n",
    "    :return: Embedded input.\n",
    "    \"\"\"\n",
    "    # TODO: Implement Function\n",
    "    embedding = tf.Variable(tf.random_uniform((vocab_size,embed_dim),-1,1))\n",
    "    \n",
    "    embed = tf.nn.embedding_lookup(embedding,input_data)\n",
    "    \n",
    "    return embed\n",
    "\n",
    "\n",
    "\"\"\"\n",
    "DON'T MODIFY ANYTHING IN THIS CELL THAT IS BELOW THIS LINE\n",
    "\"\"\"\n",
    "tests.test_get_embed(get_embed)"
   ]
  },
  {
   "cell_type": "markdown",
   "metadata": {},
   "source": [
    "### Build RNN\n",
    "You created a RNN Cell in the `get_init_cell()` function.  Time to use the cell to create a RNN.\n",
    "- Build the RNN using the [`tf.nn.dynamic_rnn()`](https://www.tensorflow.org/api_docs/python/tf/nn/dynamic_rnn)\n",
    " - Apply the name \"final_state\" to the final state using [`tf.identity()`](https://www.tensorflow.org/api_docs/python/tf/identity)\n",
    "\n",
    "Return the outputs and final_state state in the following tuple `(Outputs, FinalState)` "
   ]
  },
  {
   "cell_type": "code",
   "execution_count": 24,
   "metadata": {},
   "outputs": [
    {
     "name": "stdout",
     "output_type": "stream",
     "text": [
      "Tests Passed\n"
     ]
    }
   ],
   "source": [
    "def build_rnn(cell, inputs):\n",
    "    \"\"\"\n",
    "    Create a RNN using a RNN Cell\n",
    "    :param cell: RNN Cell\n",
    "    :param inputs: Input text data\n",
    "    :return: Tuple (Outputs, Final State)\n",
    "    \"\"\"\n",
    "    # TODO: Implement Function\n",
    "    outputs, final = tf.nn.dynamic_rnn(cell,inputs,dtype = tf.float32)\n",
    "    \n",
    "    final_state = tf.identity(final,name='final_state')\n",
    "    return (outputs,final_state)\n",
    "\n",
    "\n",
    "\"\"\"\n",
    "DON'T MODIFY ANYTHING IN THIS CELL THAT IS BELOW THIS LINE\n",
    "\"\"\"\n",
    "tests.test_build_rnn(build_rnn)"
   ]
  },
  {
   "cell_type": "markdown",
   "metadata": {},
   "source": [
    "### Build the Neural Network\n",
    "Apply the functions you implemented above to:\n",
    "- Apply embedding to `input_data` using your `get_embed(input_data, vocab_size, embed_dim)` function.\n",
    "- Build RNN using `cell` and your `build_rnn(cell, inputs)` function.\n",
    "- Apply a fully connected layer with a linear activation and `vocab_size` as the number of outputs.\n",
    "\n",
    "Return the logits and final state in the following tuple (Logits, FinalState) "
   ]
  },
  {
   "cell_type": "code",
   "execution_count": 25,
   "metadata": {},
   "outputs": [
    {
     "name": "stdout",
     "output_type": "stream",
     "text": [
      "Tests Passed\n"
     ]
    }
   ],
   "source": [
    "def build_nn(cell, rnn_size, input_data, vocab_size, embed_dim):\n",
    "    \"\"\"\n",
    "    Build part of the neural network\n",
    "    :param cell: RNN cell\n",
    "    :param rnn_size: Size of rnns\n",
    "    :param input_data: Input data\n",
    "    :param vocab_size: Vocabulary size\n",
    "    :param embed_dim: Number of embedding dimensions\n",
    "    :return: Tuple (Logits, FinalState)\n",
    "    \"\"\"\n",
    "    # TODO: Implement Function\n",
    "    inputs = get_embed(input_data,vocab_size,embed_dim)\n",
    "    \n",
    "    (outputs,FinalState) = build_rnn(cell,inputs)\n",
    "    \n",
    "    logits = tf.layers.dense(outputs,vocab_size,activation=None)\n",
    "    \n",
    "    return (logits,FinalState)\n",
    "\n",
    "\n",
    "\"\"\"\n",
    "DON'T MODIFY ANYTHING IN THIS CELL THAT IS BELOW THIS LINE\n",
    "\"\"\"\n",
    "tests.test_build_nn(build_nn)"
   ]
  },
  {
   "cell_type": "markdown",
   "metadata": {},
   "source": [
    "### Batches\n",
    "Implement `get_batches` to create batches of input and targets using `int_text`.  The batches should be a Numpy array with the shape `(number of batches, 2, batch size, sequence length)`. Each batch contains two elements:\n",
    "- The first element is a single batch of **input** with the shape `[batch size, sequence length]`\n",
    "- The second element is a single batch of **targets** with the shape `[batch size, sequence length]`\n",
    "\n",
    "If you can't fill the last batch with enough data, drop the last batch.\n",
    "\n",
    "For example, `get_batches([1, 2, 3, 4, 5, 6, 7, 8, 9, 10, 11, 12, 13, 14, 15, 16, 17, 18, 19, 20], 3, 2)` would return a Numpy array of the following:\n",
    "```\n",
    "[\n",
    "  # First Batch\n",
    "  [\n",
    "    # Batch of Input\n",
    "    [[ 1  2], [ 7  8], [13 14]]\n",
    "    # Batch of targets\n",
    "    [[ 2  3], [ 8  9], [14 15]]\n",
    "  ]\n",
    "\n",
    "  # Second Batch\n",
    "  [\n",
    "    # Batch of Input\n",
    "    [[ 3  4], [ 9 10], [15 16]]\n",
    "    # Batch of targets\n",
    "    [[ 4  5], [10 11], [16 17]]\n",
    "  ]\n",
    "\n",
    "  # Third Batch\n",
    "  [\n",
    "    # Batch of Input\n",
    "    [[ 5  6], [11 12], [17 18]]\n",
    "    # Batch of targets\n",
    "    [[ 6  7], [12 13], [18  1]]\n",
    "  ]\n",
    "]\n",
    "```\n",
    "\n",
    "Notice that the last target value in the last batch is the first input value of the first batch. In this case, `1`. This is a common technique used when creating sequence batches, although it is rather unintuitive."
   ]
  },
  {
   "cell_type": "code",
   "execution_count": 57,
   "metadata": {},
   "outputs": [
    {
     "name": "stdout",
     "output_type": "stream",
     "text": [
      "Tests Passed\n"
     ]
    }
   ],
   "source": [
    "def get_batches(int_text, batch_size, seq_length):\n",
    "    \"\"\"\n",
    "    Return batches of input and target\n",
    "    :param int_text: Text with the words replaced by their ids\n",
    "    :param batch_size: The size of batch\n",
    "    :param seq_length: The length of sequence\n",
    "    :return: Batches as a Numpy array\n",
    "    \"\"\"\n",
    "    # TODO: Implement Function\n",
    "    \n",
    "    n_batch = (len(int_text) // (batch_size * seq_length))\n",
    "    slice_index = (n_batch * (batch_size * seq_length))\n",
    "    input_data = (np.array(int_text[: slice_index]))\n",
    "    target_data = (np.array(int_text[1: slice_index] + [int_text[0]]))\n",
    "    \n",
    "    inputs = np.split(input_data.reshape(batch_size, -1), n_batch, 1)\n",
    "    targets = np.split(target_data.reshape(batch_size, -1), n_batch, 1)\n",
    "    \n",
    "    batch_list = np.array(list(zip(inputs, targets)))\n",
    "    batches = batch_list.reshape(n_batch, 2, batch_size, seq_length)\n",
    "    return batches\n",
    "\n",
    "\n",
    "\"\"\"\n",
    "DON'T MODIFY ANYTHING IN THIS CELL THAT IS BELOW THIS LINE\n",
    "\"\"\"\n",
    "tests.test_get_batches(get_batches)"
   ]
  },
  {
   "cell_type": "markdown",
   "metadata": {},
   "source": [
    "## Neural Network Training\n",
    "### Hyperparameters\n",
    "Tune the following parameters:\n",
    "\n",
    "- Set `num_epochs` to the number of epochs.\n",
    "- Set `batch_size` to the batch size.\n",
    "- Set `rnn_size` to the size of the RNNs.\n",
    "- Set `embed_dim` to the size of the embedding.\n",
    "- Set `seq_length` to the length of sequence.\n",
    "- Set `learning_rate` to the learning rate.\n",
    "- Set `show_every_n_batches` to the number of batches the neural network should print progress."
   ]
  },
  {
   "cell_type": "code",
   "execution_count": 73,
   "metadata": {},
   "outputs": [],
   "source": [
    "# Number of Epochs\n",
    "num_epochs = 200\n",
    "# Batch Size\n",
    "batch_size = 256\n",
    "# RNN Size\n",
    "rnn_size = 256\n",
    "# Embedding Dimension Size\n",
    "embed_dim = 256\n",
    "# Sequence Length\n",
    "seq_length = 16\n",
    "# Learning Rate\n",
    "learning_rate = 0.01\n",
    "# Show stats for every n number of batches\n",
    "show_every_n_batches = 10\n",
    "\n",
    "\"\"\"\n",
    "DON'T MODIFY ANYTHING IN THIS CELL THAT IS BELOW THIS LINE\n",
    "\"\"\"\n",
    "save_dir = './save'"
   ]
  },
  {
   "cell_type": "markdown",
   "metadata": {},
   "source": [
    "### Build the Graph\n",
    "Build the graph using the neural network you implemented."
   ]
  },
  {
   "cell_type": "code",
   "execution_count": 74,
   "metadata": {},
   "outputs": [],
   "source": [
    "\"\"\"\n",
    "DON'T MODIFY ANYTHING IN THIS CELL\n",
    "\"\"\"\n",
    "from tensorflow.contrib import seq2seq\n",
    "\n",
    "train_graph = tf.Graph()\n",
    "with train_graph.as_default():\n",
    "    vocab_size = len(int_to_vocab)\n",
    "    input_text, targets, lr = get_inputs()\n",
    "    input_data_shape = tf.shape(input_text)\n",
    "    cell, initial_state = get_init_cell(input_data_shape[0], rnn_size)\n",
    "    logits, final_state = build_nn(cell, rnn_size, input_text, vocab_size, embed_dim)\n",
    "\n",
    "    # Probabilities for generating words\n",
    "    probs = tf.nn.softmax(logits, name='probs')\n",
    "\n",
    "    # Loss function\n",
    "    cost = seq2seq.sequence_loss(\n",
    "        logits,\n",
    "        targets,\n",
    "        tf.ones([input_data_shape[0], input_data_shape[1]]))\n",
    "\n",
    "    # Optimizer\n",
    "    optimizer = tf.train.AdamOptimizer(lr)\n",
    "\n",
    "    # Gradient Clipping\n",
    "    gradients = optimizer.compute_gradients(cost)\n",
    "    capped_gradients = [(tf.clip_by_value(grad, -1., 1.), var) for grad, var in gradients if grad is not None]\n",
    "    train_op = optimizer.apply_gradients(capped_gradients)"
   ]
  },
  {
   "cell_type": "markdown",
   "metadata": {},
   "source": [
    "## Train\n",
    "Train the neural network on the preprocessed data.  If you have a hard time getting a good loss, check the [forums](https://discussions.udacity.com/) to see if anyone is having the same problem."
   ]
  },
  {
   "cell_type": "code",
   "execution_count": 75,
   "metadata": {
    "scrolled": false
   },
   "outputs": [
    {
     "name": "stdout",
     "output_type": "stream",
     "text": [
      "Epoch   0 Batch    0/16   train_loss = 8.822\n",
      "Epoch   0 Batch   10/16   train_loss = 6.518\n",
      "Epoch   1 Batch    4/16   train_loss = 6.178\n",
      "Epoch   1 Batch   14/16   train_loss = 6.034\n",
      "Epoch   2 Batch    8/16   train_loss = 5.995\n",
      "Epoch   3 Batch    2/16   train_loss = 5.940\n",
      "Epoch   3 Batch   12/16   train_loss = 5.976\n",
      "Epoch   4 Batch    6/16   train_loss = 5.882\n",
      "Epoch   5 Batch    0/16   train_loss = 5.581\n",
      "Epoch   5 Batch   10/16   train_loss = 5.482\n",
      "Epoch   6 Batch    4/16   train_loss = 5.251\n",
      "Epoch   6 Batch   14/16   train_loss = 5.118\n",
      "Epoch   7 Batch    8/16   train_loss = 4.959\n",
      "Epoch   8 Batch    2/16   train_loss = 4.784\n",
      "Epoch   8 Batch   12/16   train_loss = 4.773\n",
      "Epoch   9 Batch    6/16   train_loss = 4.635\n",
      "Epoch  10 Batch    0/16   train_loss = 4.515\n",
      "Epoch  10 Batch   10/16   train_loss = 4.522\n",
      "Epoch  11 Batch    4/16   train_loss = 4.439\n",
      "Epoch  11 Batch   14/16   train_loss = 4.333\n",
      "Epoch  12 Batch    8/16   train_loss = 4.239\n",
      "Epoch  13 Batch    2/16   train_loss = 4.161\n",
      "Epoch  13 Batch   12/16   train_loss = 4.187\n",
      "Epoch  14 Batch    6/16   train_loss = 4.189\n",
      "Epoch  15 Batch    0/16   train_loss = 4.021\n",
      "Epoch  15 Batch   10/16   train_loss = 3.994\n",
      "Epoch  16 Batch    4/16   train_loss = 3.951\n",
      "Epoch  16 Batch   14/16   train_loss = 3.828\n",
      "Epoch  17 Batch    8/16   train_loss = 3.808\n",
      "Epoch  18 Batch    2/16   train_loss = 3.713\n",
      "Epoch  18 Batch   12/16   train_loss = 3.697\n",
      "Epoch  19 Batch    6/16   train_loss = 3.689\n",
      "Epoch  20 Batch    0/16   train_loss = 3.586\n",
      "Epoch  20 Batch   10/16   train_loss = 3.637\n",
      "Epoch  21 Batch    4/16   train_loss = 3.748\n",
      "Epoch  21 Batch   14/16   train_loss = 3.530\n",
      "Epoch  22 Batch    8/16   train_loss = 3.422\n",
      "Epoch  23 Batch    2/16   train_loss = 3.347\n",
      "Epoch  23 Batch   12/16   train_loss = 3.250\n",
      "Epoch  24 Batch    6/16   train_loss = 3.286\n",
      "Epoch  25 Batch    0/16   train_loss = 3.142\n",
      "Epoch  25 Batch   10/16   train_loss = 3.137\n",
      "Epoch  26 Batch    4/16   train_loss = 3.167\n",
      "Epoch  26 Batch   14/16   train_loss = 3.068\n",
      "Epoch  27 Batch    8/16   train_loss = 3.172\n",
      "Epoch  28 Batch    2/16   train_loss = 3.066\n",
      "Epoch  28 Batch   12/16   train_loss = 2.925\n",
      "Epoch  29 Batch    6/16   train_loss = 2.991\n",
      "Epoch  30 Batch    0/16   train_loss = 2.832\n",
      "Epoch  30 Batch   10/16   train_loss = 2.862\n",
      "Epoch  31 Batch    4/16   train_loss = 2.844\n",
      "Epoch  31 Batch   14/16   train_loss = 2.759\n",
      "Epoch  32 Batch    8/16   train_loss = 2.766\n",
      "Epoch  33 Batch    2/16   train_loss = 2.736\n",
      "Epoch  33 Batch   12/16   train_loss = 2.625\n",
      "Epoch  34 Batch    6/16   train_loss = 2.777\n",
      "Epoch  35 Batch    0/16   train_loss = 2.607\n",
      "Epoch  35 Batch   10/16   train_loss = 2.703\n",
      "Epoch  36 Batch    4/16   train_loss = 2.720\n",
      "Epoch  36 Batch   14/16   train_loss = 2.670\n",
      "Epoch  37 Batch    8/16   train_loss = 2.757\n",
      "Epoch  38 Batch    2/16   train_loss = 2.682\n",
      "Epoch  38 Batch   12/16   train_loss = 2.570\n",
      "Epoch  39 Batch    6/16   train_loss = 2.576\n",
      "Epoch  40 Batch    0/16   train_loss = 2.374\n",
      "Epoch  40 Batch   10/16   train_loss = 2.425\n",
      "Epoch  41 Batch    4/16   train_loss = 2.331\n",
      "Epoch  41 Batch   14/16   train_loss = 2.262\n",
      "Epoch  42 Batch    8/16   train_loss = 2.278\n",
      "Epoch  43 Batch    2/16   train_loss = 2.212\n",
      "Epoch  43 Batch   12/16   train_loss = 2.149\n",
      "Epoch  44 Batch    6/16   train_loss = 2.186\n",
      "Epoch  45 Batch    0/16   train_loss = 2.084\n",
      "Epoch  45 Batch   10/16   train_loss = 2.103\n",
      "Epoch  46 Batch    4/16   train_loss = 2.040\n",
      "Epoch  46 Batch   14/16   train_loss = 2.027\n",
      "Epoch  47 Batch    8/16   train_loss = 2.017\n",
      "Epoch  48 Batch    2/16   train_loss = 1.958\n",
      "Epoch  48 Batch   12/16   train_loss = 1.952\n",
      "Epoch  49 Batch    6/16   train_loss = 1.973\n",
      "Epoch  50 Batch    0/16   train_loss = 1.933\n",
      "Epoch  50 Batch   10/16   train_loss = 1.979\n",
      "Epoch  51 Batch    4/16   train_loss = 1.933\n",
      "Epoch  51 Batch   14/16   train_loss = 1.970\n",
      "Epoch  52 Batch    8/16   train_loss = 1.947\n",
      "Epoch  53 Batch    2/16   train_loss = 1.983\n",
      "Epoch  53 Batch   12/16   train_loss = 1.867\n",
      "Epoch  54 Batch    6/16   train_loss = 1.858\n",
      "Epoch  55 Batch    0/16   train_loss = 1.903\n",
      "Epoch  55 Batch   10/16   train_loss = 2.006\n",
      "Epoch  56 Batch    4/16   train_loss = 2.093\n",
      "Epoch  56 Batch   14/16   train_loss = 2.082\n",
      "Epoch  57 Batch    8/16   train_loss = 1.973\n",
      "Epoch  58 Batch    2/16   train_loss = 1.874\n",
      "Epoch  58 Batch   12/16   train_loss = 1.720\n",
      "Epoch  59 Batch    6/16   train_loss = 1.708\n",
      "Epoch  60 Batch    0/16   train_loss = 1.626\n",
      "Epoch  60 Batch   10/16   train_loss = 1.543\n",
      "Epoch  61 Batch    4/16   train_loss = 1.516\n",
      "Epoch  61 Batch   14/16   train_loss = 1.477\n",
      "Epoch  62 Batch    8/16   train_loss = 1.458\n",
      "Epoch  63 Batch    2/16   train_loss = 1.448\n",
      "Epoch  63 Batch   12/16   train_loss = 1.362\n",
      "Epoch  64 Batch    6/16   train_loss = 1.451\n",
      "Epoch  65 Batch    0/16   train_loss = 1.438\n",
      "Epoch  65 Batch   10/16   train_loss = 1.388\n",
      "Epoch  66 Batch    4/16   train_loss = 1.400\n",
      "Epoch  66 Batch   14/16   train_loss = 1.350\n",
      "Epoch  67 Batch    8/16   train_loss = 1.358\n",
      "Epoch  68 Batch    2/16   train_loss = 1.349\n",
      "Epoch  68 Batch   12/16   train_loss = 1.237\n",
      "Epoch  69 Batch    6/16   train_loss = 1.289\n",
      "Epoch  70 Batch    0/16   train_loss = 1.293\n",
      "Epoch  70 Batch   10/16   train_loss = 1.219\n",
      "Epoch  71 Batch    4/16   train_loss = 1.244\n",
      "Epoch  71 Batch   14/16   train_loss = 1.207\n",
      "Epoch  72 Batch    8/16   train_loss = 1.165\n",
      "Epoch  73 Batch    2/16   train_loss = 1.140\n",
      "Epoch  73 Batch   12/16   train_loss = 1.101\n",
      "Epoch  74 Batch    6/16   train_loss = 1.148\n",
      "Epoch  75 Batch    0/16   train_loss = 1.168\n",
      "Epoch  75 Batch   10/16   train_loss = 1.103\n",
      "Epoch  76 Batch    4/16   train_loss = 1.121\n",
      "Epoch  76 Batch   14/16   train_loss = 1.104\n",
      "Epoch  77 Batch    8/16   train_loss = 1.105\n",
      "Epoch  78 Batch    2/16   train_loss = 1.121\n",
      "Epoch  78 Batch   12/16   train_loss = 1.059\n",
      "Epoch  79 Batch    6/16   train_loss = 1.168\n",
      "Epoch  80 Batch    0/16   train_loss = 1.108\n",
      "Epoch  80 Batch   10/16   train_loss = 1.051\n",
      "Epoch  81 Batch    4/16   train_loss = 1.086\n",
      "Epoch  81 Batch   14/16   train_loss = 1.139\n",
      "Epoch  82 Batch    8/16   train_loss = 1.155\n",
      "Epoch  83 Batch    2/16   train_loss = 1.136\n",
      "Epoch  83 Batch   12/16   train_loss = 1.072\n",
      "Epoch  84 Batch    6/16   train_loss = 1.176\n",
      "Epoch  85 Batch    0/16   train_loss = 1.236\n",
      "Epoch  85 Batch   10/16   train_loss = 1.263\n",
      "Epoch  86 Batch    4/16   train_loss = 1.199\n",
      "Epoch  86 Batch   14/16   train_loss = 1.151\n",
      "Epoch  87 Batch    8/16   train_loss = 1.288\n",
      "Epoch  88 Batch    2/16   train_loss = 1.313\n",
      "Epoch  88 Batch   12/16   train_loss = 1.340\n",
      "Epoch  89 Batch    6/16   train_loss = 1.385\n",
      "Epoch  90 Batch    0/16   train_loss = 1.312\n",
      "Epoch  90 Batch   10/16   train_loss = 1.174\n",
      "Epoch  91 Batch    4/16   train_loss = 1.097\n",
      "Epoch  91 Batch   14/16   train_loss = 1.051\n",
      "Epoch  92 Batch    8/16   train_loss = 1.029\n",
      "Epoch  93 Batch    2/16   train_loss = 0.962\n",
      "Epoch  93 Batch   12/16   train_loss = 0.879\n",
      "Epoch  94 Batch    6/16   train_loss = 0.872\n",
      "Epoch  95 Batch    0/16   train_loss = 0.855\n",
      "Epoch  95 Batch   10/16   train_loss = 0.806\n",
      "Epoch  96 Batch    4/16   train_loss = 0.785\n",
      "Epoch  96 Batch   14/16   train_loss = 0.759\n",
      "Epoch  97 Batch    8/16   train_loss = 0.773\n",
      "Epoch  98 Batch    2/16   train_loss = 0.734\n",
      "Epoch  98 Batch   12/16   train_loss = 0.711\n",
      "Epoch  99 Batch    6/16   train_loss = 0.712\n",
      "Epoch 100 Batch    0/16   train_loss = 0.725\n",
      "Epoch 100 Batch   10/16   train_loss = 0.708\n",
      "Epoch 101 Batch    4/16   train_loss = 0.673\n",
      "Epoch 101 Batch   14/16   train_loss = 0.666\n",
      "Epoch 102 Batch    8/16   train_loss = 0.672\n",
      "Epoch 103 Batch    2/16   train_loss = 0.636\n",
      "Epoch 103 Batch   12/16   train_loss = 0.617\n",
      "Epoch 104 Batch    6/16   train_loss = 0.640\n",
      "Epoch 105 Batch    0/16   train_loss = 0.633\n",
      "Epoch 105 Batch   10/16   train_loss = 0.622\n",
      "Epoch 106 Batch    4/16   train_loss = 0.604\n",
      "Epoch 106 Batch   14/16   train_loss = 0.608\n",
      "Epoch 107 Batch    8/16   train_loss = 0.645\n",
      "Epoch 108 Batch    2/16   train_loss = 0.640\n",
      "Epoch 108 Batch   12/16   train_loss = 0.633\n",
      "Epoch 109 Batch    6/16   train_loss = 0.653\n",
      "Epoch 110 Batch    0/16   train_loss = 0.657\n",
      "Epoch 110 Batch   10/16   train_loss = 0.646\n",
      "Epoch 111 Batch    4/16   train_loss = 0.657\n",
      "Epoch 111 Batch   14/16   train_loss = 0.708\n",
      "Epoch 112 Batch    8/16   train_loss = 0.718\n",
      "Epoch 113 Batch    2/16   train_loss = 0.680\n",
      "Epoch 113 Batch   12/16   train_loss = 0.645\n"
     ]
    },
    {
     "name": "stdout",
     "output_type": "stream",
     "text": [
      "Epoch 114 Batch    6/16   train_loss = 0.683\n",
      "Epoch 115 Batch    0/16   train_loss = 0.677\n",
      "Epoch 115 Batch   10/16   train_loss = 0.650\n",
      "Epoch 116 Batch    4/16   train_loss = 0.600\n",
      "Epoch 116 Batch   14/16   train_loss = 0.591\n",
      "Epoch 117 Batch    8/16   train_loss = 0.622\n",
      "Epoch 118 Batch    2/16   train_loss = 0.594\n",
      "Epoch 118 Batch   12/16   train_loss = 0.561\n",
      "Epoch 119 Batch    6/16   train_loss = 0.561\n",
      "Epoch 120 Batch    0/16   train_loss = 0.601\n",
      "Epoch 120 Batch   10/16   train_loss = 0.562\n",
      "Epoch 121 Batch    4/16   train_loss = 0.542\n",
      "Epoch 121 Batch   14/16   train_loss = 0.541\n",
      "Epoch 122 Batch    8/16   train_loss = 0.585\n",
      "Epoch 123 Batch    2/16   train_loss = 0.626\n",
      "Epoch 123 Batch   12/16   train_loss = 0.583\n",
      "Epoch 124 Batch    6/16   train_loss = 0.589\n",
      "Epoch 125 Batch    0/16   train_loss = 0.600\n",
      "Epoch 125 Batch   10/16   train_loss = 0.677\n",
      "Epoch 126 Batch    4/16   train_loss = 0.660\n",
      "Epoch 126 Batch   14/16   train_loss = 0.683\n",
      "Epoch 127 Batch    8/16   train_loss = 0.709\n",
      "Epoch 128 Batch    2/16   train_loss = 0.672\n",
      "Epoch 128 Batch   12/16   train_loss = 0.665\n",
      "Epoch 129 Batch    6/16   train_loss = 0.706\n",
      "Epoch 130 Batch    0/16   train_loss = 0.691\n",
      "Epoch 130 Batch   10/16   train_loss = 0.674\n",
      "Epoch 131 Batch    4/16   train_loss = 0.651\n",
      "Epoch 131 Batch   14/16   train_loss = 0.651\n",
      "Epoch 132 Batch    8/16   train_loss = 0.640\n",
      "Epoch 133 Batch    2/16   train_loss = 0.634\n",
      "Epoch 133 Batch   12/16   train_loss = 0.615\n",
      "Epoch 134 Batch    6/16   train_loss = 0.667\n",
      "Epoch 135 Batch    0/16   train_loss = 0.660\n",
      "Epoch 135 Batch   10/16   train_loss = 0.606\n",
      "Epoch 136 Batch    4/16   train_loss = 0.577\n",
      "Epoch 136 Batch   14/16   train_loss = 0.606\n",
      "Epoch 137 Batch    8/16   train_loss = 0.637\n",
      "Epoch 138 Batch    2/16   train_loss = 0.595\n",
      "Epoch 138 Batch   12/16   train_loss = 0.553\n",
      "Epoch 139 Batch    6/16   train_loss = 0.542\n",
      "Epoch 140 Batch    0/16   train_loss = 0.600\n",
      "Epoch 140 Batch   10/16   train_loss = 0.616\n",
      "Epoch 141 Batch    4/16   train_loss = 0.586\n",
      "Epoch 141 Batch   14/16   train_loss = 0.559\n",
      "Epoch 142 Batch    8/16   train_loss = 0.533\n",
      "Epoch 143 Batch    2/16   train_loss = 0.511\n",
      "Epoch 143 Batch   12/16   train_loss = 0.544\n",
      "Epoch 144 Batch    6/16   train_loss = 0.546\n",
      "Epoch 145 Batch    0/16   train_loss = 0.563\n",
      "Epoch 145 Batch   10/16   train_loss = 0.525\n",
      "Epoch 146 Batch    4/16   train_loss = 0.500\n",
      "Epoch 146 Batch   14/16   train_loss = 0.505\n",
      "Epoch 147 Batch    8/16   train_loss = 0.514\n",
      "Epoch 148 Batch    2/16   train_loss = 0.489\n",
      "Epoch 148 Batch   12/16   train_loss = 0.447\n",
      "Epoch 149 Batch    6/16   train_loss = 0.465\n",
      "Epoch 150 Batch    0/16   train_loss = 0.460\n",
      "Epoch 150 Batch   10/16   train_loss = 0.456\n",
      "Epoch 151 Batch    4/16   train_loss = 0.426\n",
      "Epoch 151 Batch   14/16   train_loss = 0.407\n",
      "Epoch 152 Batch    8/16   train_loss = 0.399\n",
      "Epoch 153 Batch    2/16   train_loss = 0.370\n",
      "Epoch 153 Batch   12/16   train_loss = 0.333\n",
      "Epoch 154 Batch    6/16   train_loss = 0.338\n",
      "Epoch 155 Batch    0/16   train_loss = 0.341\n",
      "Epoch 155 Batch   10/16   train_loss = 0.325\n",
      "Epoch 156 Batch    4/16   train_loss = 0.312\n",
      "Epoch 156 Batch   14/16   train_loss = 0.300\n",
      "Epoch 157 Batch    8/16   train_loss = 0.298\n",
      "Epoch 158 Batch    2/16   train_loss = 0.283\n",
      "Epoch 158 Batch   12/16   train_loss = 0.257\n",
      "Epoch 159 Batch    6/16   train_loss = 0.270\n",
      "Epoch 160 Batch    0/16   train_loss = 0.267\n",
      "Epoch 160 Batch   10/16   train_loss = 0.260\n",
      "Epoch 161 Batch    4/16   train_loss = 0.252\n",
      "Epoch 161 Batch   14/16   train_loss = 0.245\n",
      "Epoch 162 Batch    8/16   train_loss = 0.251\n",
      "Epoch 163 Batch    2/16   train_loss = 0.244\n",
      "Epoch 163 Batch   12/16   train_loss = 0.225\n",
      "Epoch 164 Batch    6/16   train_loss = 0.240\n",
      "Epoch 165 Batch    0/16   train_loss = 0.239\n",
      "Epoch 165 Batch   10/16   train_loss = 0.239\n",
      "Epoch 166 Batch    4/16   train_loss = 0.233\n",
      "Epoch 166 Batch   14/16   train_loss = 0.230\n",
      "Epoch 167 Batch    8/16   train_loss = 0.237\n",
      "Epoch 168 Batch    2/16   train_loss = 0.230\n",
      "Epoch 168 Batch   12/16   train_loss = 0.214\n",
      "Epoch 169 Batch    6/16   train_loss = 0.229\n",
      "Epoch 170 Batch    0/16   train_loss = 0.228\n",
      "Epoch 170 Batch   10/16   train_loss = 0.230\n",
      "Epoch 171 Batch    4/16   train_loss = 0.224\n",
      "Epoch 171 Batch   14/16   train_loss = 0.222\n",
      "Epoch 172 Batch    8/16   train_loss = 0.230\n",
      "Epoch 173 Batch    2/16   train_loss = 0.223\n",
      "Epoch 173 Batch   12/16   train_loss = 0.207\n",
      "Epoch 174 Batch    6/16   train_loss = 0.223\n",
      "Epoch 175 Batch    0/16   train_loss = 0.221\n",
      "Epoch 175 Batch   10/16   train_loss = 0.224\n",
      "Epoch 176 Batch    4/16   train_loss = 0.218\n",
      "Epoch 176 Batch   14/16   train_loss = 0.218\n",
      "Epoch 177 Batch    8/16   train_loss = 0.225\n",
      "Epoch 178 Batch    2/16   train_loss = 0.218\n",
      "Epoch 178 Batch   12/16   train_loss = 0.203\n",
      "Epoch 179 Batch    6/16   train_loss = 0.218\n",
      "Epoch 180 Batch    0/16   train_loss = 0.217\n",
      "Epoch 180 Batch   10/16   train_loss = 0.220\n",
      "Epoch 181 Batch    4/16   train_loss = 0.214\n",
      "Epoch 181 Batch   14/16   train_loss = 0.214\n",
      "Epoch 182 Batch    8/16   train_loss = 0.221\n",
      "Epoch 183 Batch    2/16   train_loss = 0.214\n",
      "Epoch 183 Batch   12/16   train_loss = 0.200\n",
      "Epoch 184 Batch    6/16   train_loss = 0.215\n",
      "Epoch 185 Batch    0/16   train_loss = 0.213\n",
      "Epoch 185 Batch   10/16   train_loss = 0.217\n",
      "Epoch 186 Batch    4/16   train_loss = 0.211\n",
      "Epoch 186 Batch   14/16   train_loss = 0.212\n",
      "Epoch 187 Batch    8/16   train_loss = 0.219\n",
      "Epoch 188 Batch    2/16   train_loss = 0.212\n",
      "Epoch 188 Batch   12/16   train_loss = 0.198\n",
      "Epoch 189 Batch    6/16   train_loss = 0.212\n",
      "Epoch 190 Batch    0/16   train_loss = 0.210\n",
      "Epoch 190 Batch   10/16   train_loss = 0.215\n",
      "Epoch 191 Batch    4/16   train_loss = 0.208\n",
      "Epoch 191 Batch   14/16   train_loss = 0.209\n",
      "Epoch 192 Batch    8/16   train_loss = 0.216\n",
      "Epoch 193 Batch    2/16   train_loss = 0.209\n",
      "Epoch 193 Batch   12/16   train_loss = 0.196\n",
      "Epoch 194 Batch    6/16   train_loss = 0.210\n",
      "Epoch 195 Batch    0/16   train_loss = 0.207\n",
      "Epoch 195 Batch   10/16   train_loss = 0.213\n",
      "Epoch 196 Batch    4/16   train_loss = 0.206\n",
      "Epoch 196 Batch   14/16   train_loss = 0.207\n",
      "Epoch 197 Batch    8/16   train_loss = 0.215\n",
      "Epoch 198 Batch    2/16   train_loss = 0.207\n",
      "Epoch 198 Batch   12/16   train_loss = 0.194\n",
      "Epoch 199 Batch    6/16   train_loss = 0.208\n",
      "Model Trained and Saved\n"
     ]
    }
   ],
   "source": [
    "\"\"\"\n",
    "DON'T MODIFY ANYTHING IN THIS CELL\n",
    "\"\"\"\n",
    "batches = get_batches(int_text, batch_size, seq_length)\n",
    "\n",
    "with tf.Session(graph=train_graph) as sess:\n",
    "    sess.run(tf.global_variables_initializer())\n",
    "\n",
    "    for epoch_i in range(num_epochs):\n",
    "        state = sess.run(initial_state, {input_text: batches[0][0]})\n",
    "\n",
    "        for batch_i, (x, y) in enumerate(batches):\n",
    "            feed = {\n",
    "                input_text: x,\n",
    "                targets: y,\n",
    "                initial_state: state,\n",
    "                lr: learning_rate}\n",
    "            train_loss, state, _ = sess.run([cost, final_state, train_op], feed)\n",
    "\n",
    "            # Show every <show_every_n_batches> batches\n",
    "            if (epoch_i * len(batches) + batch_i) % show_every_n_batches == 0:\n",
    "                print('Epoch {:>3} Batch {:>4}/{}   train_loss = {:.3f}'.format(\n",
    "                    epoch_i,\n",
    "                    batch_i,\n",
    "                    len(batches),\n",
    "                    train_loss))\n",
    "\n",
    "    # Save Model\n",
    "    saver = tf.train.Saver()\n",
    "    saver.save(sess, save_dir)\n",
    "    print('Model Trained and Saved')"
   ]
  },
  {
   "cell_type": "markdown",
   "metadata": {},
   "source": [
    "## Save Parameters\n",
    "Save `seq_length` and `save_dir` for generating a new TV script."
   ]
  },
  {
   "cell_type": "code",
   "execution_count": 76,
   "metadata": {},
   "outputs": [],
   "source": [
    "\"\"\"\n",
    "DON'T MODIFY ANYTHING IN THIS CELL\n",
    "\"\"\"\n",
    "# Save parameters for checkpoint\n",
    "helper.save_params((seq_length, save_dir))"
   ]
  },
  {
   "cell_type": "markdown",
   "metadata": {},
   "source": [
    "# Checkpoint"
   ]
  },
  {
   "cell_type": "code",
   "execution_count": 77,
   "metadata": {},
   "outputs": [],
   "source": [
    "\"\"\"\n",
    "DON'T MODIFY ANYTHING IN THIS CELL\n",
    "\"\"\"\n",
    "import tensorflow as tf\n",
    "import numpy as np\n",
    "import helper\n",
    "import problem_unittests as tests\n",
    "\n",
    "_, vocab_to_int, int_to_vocab, token_dict = helper.load_preprocess()\n",
    "seq_length, load_dir = helper.load_params()"
   ]
  },
  {
   "cell_type": "markdown",
   "metadata": {},
   "source": [
    "## Implement Generate Functions\n",
    "### Get Tensors\n",
    "Get tensors from `loaded_graph` using the function [`get_tensor_by_name()`](https://www.tensorflow.org/api_docs/python/tf/Graph#get_tensor_by_name).  Get the tensors using the following names:\n",
    "- \"input:0\"\n",
    "- \"initial_state:0\"\n",
    "- \"final_state:0\"\n",
    "- \"probs:0\"\n",
    "\n",
    "Return the tensors in the following tuple `(InputTensor, InitialStateTensor, FinalStateTensor, ProbsTensor)` "
   ]
  },
  {
   "cell_type": "code",
   "execution_count": 78,
   "metadata": {},
   "outputs": [
    {
     "name": "stdout",
     "output_type": "stream",
     "text": [
      "Tests Passed\n"
     ]
    }
   ],
   "source": [
    "def get_tensors(loaded_graph):\n",
    "    \"\"\"\n",
    "    Get input, initial state, final state, and probabilities tensor from <loaded_graph>\n",
    "    :param loaded_graph: TensorFlow graph loaded from file\n",
    "    :return: Tuple (InputTensor, InitialStateTensor, FinalStateTensor, ProbsTensor)\n",
    "    \"\"\"\n",
    "    # TODO: Implement Function\n",
    "    InputTensor = loaded_graph.get_tensor_by_name('input:0')\n",
    "    InitialStateTensor = loaded_graph.get_tensor_by_name('initial_state:0')\n",
    "    FinalStateTensor = loaded_graph.get_tensor_by_name('final_state:0')\n",
    "    ProbsTensor = loaded_graph.get_tensor_by_name('probs:0')\n",
    "    return (InputTensor,InitialStateTensor,FinalStateTensor,ProbsTensor)\n",
    "\n",
    "\n",
    "\"\"\"\n",
    "DON'T MODIFY ANYTHING IN THIS CELL THAT IS BELOW THIS LINE\n",
    "\"\"\"\n",
    "tests.test_get_tensors(get_tensors)"
   ]
  },
  {
   "cell_type": "markdown",
   "metadata": {},
   "source": [
    "### Choose Word\n",
    "Implement the `pick_word()` function to select the next word using `probabilities`."
   ]
  },
  {
   "cell_type": "code",
   "execution_count": 80,
   "metadata": {},
   "outputs": [
    {
     "name": "stdout",
     "output_type": "stream",
     "text": [
      "Tests Passed\n"
     ]
    }
   ],
   "source": [
    "def pick_word(probabilities, int_to_vocab):\n",
    "    \"\"\"\n",
    "    Pick the next word in the generated text\n",
    "    :param probabilities: Probabilites of the next word\n",
    "    :param int_to_vocab: Dictionary of word ids as the keys and words as the values\n",
    "    :return: String of the predicted word\n",
    "    \"\"\"\n",
    "    # TODO: Implement Function\n",
    "    random_index = np.random.choice(len(int_to_vocab), p = probabilities)\n",
    "    return int_to_vocab[random_index]\n",
    "\n",
    "\n",
    "\"\"\"\n",
    "DON'T MODIFY ANYTHING IN THIS CELL THAT IS BELOW THIS LINE\n",
    "\"\"\"\n",
    "tests.test_pick_word(pick_word)"
   ]
  },
  {
   "cell_type": "markdown",
   "metadata": {},
   "source": [
    "## Generate TV Script\n",
    "This will generate the TV script for you.  Set `gen_length` to the length of TV script you want to generate."
   ]
  },
  {
   "cell_type": "code",
   "execution_count": 81,
   "metadata": {},
   "outputs": [
    {
     "name": "stdout",
     "output_type": "stream",
     "text": [
      "INFO:tensorflow:Restoring parameters from ./save\n",
      "moe_szyslak: missed!\n",
      "\n",
      "\n",
      "moe_szyslak: hey, homer. i could hear your pathetic rationalizing.\n",
      "homer_simpson: wait a minute, homer. you're always pointing that in. while you'll show ya no.(belch)\n",
      "seymour_skinner: no problem.\n",
      "snake_jailbird:(\" why self) see?\n",
      "\n",
      "\n",
      "moe_szyslak: oh, my poor bar.\n",
      "\n",
      "\n",
      "duffman:... and get to said, too. you've just a big girl of the day i let it off.\n",
      "moe_szyslak: well, i gotta wing this hours.\n",
      "lenny_leonard: a little rat eyes.\n",
      "homer_simpson: wait a minute-- you still never made you look good on that burning hours.\n",
      "homer_simpson:(sweet) yeah?\n",
      "homer_simpson: the usual, moe. we haven't seen me?\n",
      "lenny_leonard: hey moe, you should always make my mom.\n",
      "carl_carlson: no. i mean?\n",
      "new_health_inspector:(firmly) i can't sell it?\n",
      "moe_szyslak: you sure be africa.\n",
      "\n",
      "\n",
      "homer_simpson:(re: homer, to these finger sound) atlanta distributor? a swimming pool\n"
     ]
    }
   ],
   "source": [
    "gen_length = 200\n",
    "# homer_simpson, moe_szyslak, or Barney_Gumble\n",
    "prime_word = 'moe_szyslak'\n",
    "\n",
    "\"\"\"\n",
    "DON'T MODIFY ANYTHING IN THIS CELL THAT IS BELOW THIS LINE\n",
    "\"\"\"\n",
    "loaded_graph = tf.Graph()\n",
    "with tf.Session(graph=loaded_graph) as sess:\n",
    "    # Load saved model\n",
    "    loader = tf.train.import_meta_graph(load_dir + '.meta')\n",
    "    loader.restore(sess, load_dir)\n",
    "\n",
    "    # Get Tensors from loaded model\n",
    "    input_text, initial_state, final_state, probs = get_tensors(loaded_graph)\n",
    "\n",
    "    # Sentences generation setup\n",
    "    gen_sentences = [prime_word + ':']\n",
    "    prev_state = sess.run(initial_state, {input_text: np.array([[1]])})\n",
    "\n",
    "    # Generate sentences\n",
    "    for n in range(gen_length):\n",
    "        # Dynamic Input\n",
    "        dyn_input = [[vocab_to_int[word] for word in gen_sentences[-seq_length:]]]\n",
    "        dyn_seq_length = len(dyn_input[0])\n",
    "\n",
    "        # Get Prediction\n",
    "        probabilities, prev_state = sess.run(\n",
    "            [probs, final_state],\n",
    "            {input_text: dyn_input, initial_state: prev_state})\n",
    "        \n",
    "        pred_word = pick_word(probabilities[0][dyn_seq_length-1], int_to_vocab)\n",
    "\n",
    "        gen_sentences.append(pred_word)\n",
    "    \n",
    "    # Remove tokens\n",
    "    tv_script = ' '.join(gen_sentences)\n",
    "    for key, token in token_dict.items():\n",
    "        ending = ' ' if key in ['\\n', '(', '\"'] else ''\n",
    "        tv_script = tv_script.replace(' ' + token.lower(), key)\n",
    "    tv_script = tv_script.replace('\\n ', '\\n')\n",
    "    tv_script = tv_script.replace('( ', '(')\n",
    "        \n",
    "    print(tv_script)"
   ]
  },
  {
   "cell_type": "markdown",
   "metadata": {},
   "source": [
    "# The TV Script is Nonsensical\n",
    "It's ok if the TV script doesn't make any sense.  We trained on less than a megabyte of text.  In order to get good results, you'll have to use a smaller vocabulary or get more data.  Luckily there's more data!  As we mentioned in the beggining of this project, this is a subset of [another dataset](https://www.kaggle.com/wcukierski/the-simpsons-by-the-data).  We didn't have you train on all the data, because that would take too long.  However, you are free to train your neural network on all the data.  After you complete the project, of course.\n",
    "# Submitting This Project\n",
    "When submitting this project, make sure to run all the cells before saving the notebook. Save the notebook file as \"dlnd_tv_script_generation.ipynb\" and save it as a HTML file under \"File\" -> \"Download as\". Include the \"helper.py\" and \"problem_unittests.py\" files in your submission."
   ]
  },
  {
   "cell_type": "code",
   "execution_count": null,
   "metadata": {},
   "outputs": [],
   "source": []
  }
 ],
 "metadata": {
  "kernelspec": {
   "display_name": "Python 3",
   "language": "python",
   "name": "python3"
  },
  "language_info": {
   "codemirror_mode": {
    "name": "ipython",
    "version": 3
   },
   "file_extension": ".py",
   "mimetype": "text/x-python",
   "name": "python",
   "nbconvert_exporter": "python",
   "pygments_lexer": "ipython3",
   "version": "3.6.3"
  },
  "widgets": {
   "state": {},
   "version": "1.1.2"
  }
 },
 "nbformat": 4,
 "nbformat_minor": 1
}
